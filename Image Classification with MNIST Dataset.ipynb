{
 "cells": [
  {
   "cell_type": "markdown",
   "metadata": {},
   "source": [
    "## This notebook is an overview of the basics of CNN"
   ]
  },
  {
   "cell_type": "markdown",
   "metadata": {},
   "source": [
    "## Convolutional Layers\n",
    "Convolutional layers are used to extract features from images. Pixels are only related to adjacent and close pixels. Convolution allows the relationship between different parts of an image to be preserved by filtering an image with a smaller pixel filter to decrease the size of an image without loosing relationship between pixels. "
   ]
  },
  {
   "cell_type": "markdown",
   "metadata": {},
   "source": [
    "## Pooling Layers\n",
    "Pooling layers are usually inserted after each convolution layer to reduce the spataial size of the convolved representation in order to reduce the computational complexity. Pooling layer also helps with overfitting. "
   ]
  },
  {
   "cell_type": "markdown",
   "metadata": {},
   "source": [
    "## Fully Connected Layers\n",
    "Similar to a MLP, fully connected layers is usually used to classify the images."
   ]
  },
  {
   "cell_type": "code",
   "execution_count": 1,
   "metadata": {},
   "outputs": [],
   "source": [
    "# Import necessary libraries\n",
    "import tensorflow as tf\n",
    "from tensorflow import keras as keras\n",
    "import pandas as pd\n",
    "from sklearn.model_selection import train_test_split\n",
    "import matplotlib.pyplot as plt\n",
    "%matplotlib inline\n"
   ]
  },
  {
   "cell_type": "markdown",
   "metadata": {},
   "source": [
    "## Load the Train and Test data"
   ]
  },
  {
   "cell_type": "code",
   "execution_count": 2,
   "metadata": {},
   "outputs": [
    {
     "name": "stdout",
     "output_type": "stream",
     "text": [
      "(42000, 785)\n",
      "(28000, 784)\n"
     ]
    }
   ],
   "source": [
    "train_data = pd.read_csv('data/train.csv')\n",
    "print(train_data.shape)\n",
    "\n",
    "test_data = pd.read_csv('data/test.csv')\n",
    "print(test_data.shape)"
   ]
  },
  {
   "cell_type": "code",
   "execution_count": 3,
   "metadata": {},
   "outputs": [],
   "source": [
    "# iloc: integer-location based indexing for selection by position.\n",
    "# train.iloc[cols, rows]\n",
    "\n",
    "# Make sure that the values are float to get decimal points after division\n",
    "X_train = (train_data.iloc[:,1:].values).astype('float32') # all pixel values\n",
    "y_train = train_data.iloc[:,0].values.astype('int32') # only labels i.e targets digits\n",
    "X_test = test_data.values.astype('float32')"
   ]
  },
  {
   "cell_type": "markdown",
   "metadata": {},
   "source": [
    "## Visualize Training data"
   ]
  },
  {
   "cell_type": "code",
   "execution_count": 4,
   "metadata": {},
   "outputs": [
    {
     "name": "stdout",
     "output_type": "stream",
     "text": [
      "(42000, 784)\n",
      "(42000, 28, 28)\n"
     ]
    },
    {
     "data": {
      "image/png": "[encoded data removed]",
      "text/plain": [
       "<Figure size 432x288 with 9 Axes>"
      ]
     },
     "metadata": {
      "needs_background": "light"
     },
     "output_type": "display_data"
    }
   ],
   "source": [
    "print(X_train.shape)\n",
    "X_train = X_train.reshape(42000, 28, 28)\n",
    "print(X_train.shape)\n",
    "for i in range(0,9):\n",
    "    plt.subplot(3, 3, i+1)\n",
    "    plt.subplots_adjust(hspace = 0.5)\n",
    "    plt.axis('off')\n",
    "    plt.imshow(X_train[i], cmap=plt.get_cmap('gray'))\n",
    "    plt.title(y_train[i]);"
   ]
  },
  {
   "cell_type": "code",
   "execution_count": 5,
   "metadata": {},
   "outputs": [
    {
     "name": "stdout",
     "output_type": "stream",
     "text": [
      "(42000, 28, 28, 1)\n",
      "(28000, 28, 28, 1)\n"
     ]
    }
   ],
   "source": [
    "X_train = X_train.reshape(X_train.shape[0], 28, 28, 1)\n",
    "X_test = X_test.reshape(X_test.shape[0], 28, 28, 1)\n",
    "print(X_train.shape)\n",
    "print(X_test.shape)"
   ]
  },
  {
   "cell_type": "markdown",
   "metadata": {},
   "source": [
    "## One-hot encoding"
   ]
  },
  {
   "cell_type": "code",
   "execution_count": 6,
   "metadata": {},
   "outputs": [
    {
     "name": "stdout",
     "output_type": "stream",
     "text": [
      "10\n"
     ]
    }
   ],
   "source": [
    "y_train= keras.utils.to_categorical(y_train)\n",
    "num_classes = y_train.shape[1]\n",
    "print(num_classes)\n"
   ]
  },
  {
   "cell_type": "code",
   "execution_count": 7,
   "metadata": {},
   "outputs": [
    {
     "name": "stdout",
     "output_type": "stream",
     "text": [
      "(42000, 28, 28, 1)\n",
      "(28000, 28, 28, 1)\n"
     ]
    }
   ],
   "source": [
    "# Normalizing the RGB codes by dividing it to the max RGB value.\n",
    "X_train /= 255.0\n",
    "X_test /= 255.0\n",
    "\n",
    "print(X_train.shape)\n",
    "print(X_test.shape)"
   ]
  },
  {
   "cell_type": "code",
   "execution_count": 8,
   "metadata": {},
   "outputs": [
    {
     "name": "stdout",
     "output_type": "stream",
     "text": [
      "WARNING:tensorflow:From /Users/luishengjie/anaconda3/envs/deeplearning/lib/python3.7/site-packages/tensorflow/python/ops/resource_variable_ops.py:435: colocate_with (from tensorflow.python.framework.ops) is deprecated and will be removed in a future version.\n",
      "Instructions for updating:\n",
      "Colocations handled automatically by placer.\n",
      "WARNING:tensorflow:From /Users/luishengjie/anaconda3/envs/deeplearning/lib/python3.7/site-packages/tensorflow/python/keras/layers/core.py:143: calling dropout (from tensorflow.python.ops.nn_ops) with keep_prob is deprecated and will be removed in a future version.\n",
      "Instructions for updating:\n",
      "Please use `rate` instead of `keep_prob`. Rate should be set to `rate = 1 - keep_prob`.\n"
     ]
    }
   ],
   "source": [
    "# CNN Architecture\n",
    "model = keras.Sequential([keras.layers.Conv2D(32, kernel_size=(5, 5), activation ='relu', input_shape=(28,28,1)),\n",
    "                          keras.layers.Conv2D(32, kernel_size=(5, 5), activation ='relu'),\n",
    "                          keras.layers.MaxPooling2D(pool_size=(2,2)),\n",
    "                          keras.layers.Dropout(0.25),\n",
    "                          \n",
    "                          keras.layers.Conv2D(64, kernel_size=(3, 3), activation ='relu'),\n",
    "                          keras.layers.Conv2D(64, kernel_size=(3, 3), activation ='relu'),\n",
    "                          keras.layers.MaxPooling2D(pool_size=(2,2), strides=(2,2)),\n",
    "                          keras.layers.Dropout(0.25),\n",
    "                          \n",
    "                          keras.layers.Flatten(), \n",
    "                          keras.layers.Dense(256, activation='relu'),\n",
    "                          keras.layers.Dropout(0.2),\n",
    "                          keras.layers.Dense(10, activation='softmax')])\n",
    "\n",
    "model.compile(optimizer=tf.keras.optimizers.RMSprop(lr=0.001, rho=0.9, epsilon=1e-08, decay=0.0),\n",
    "              loss='categorical_crossentropy',\n",
    "              metrics=['accuracy'])\n"
   ]
  },
  {
   "cell_type": "markdown",
   "metadata": {},
   "source": [
    "## Cross Validation "
   ]
  },
  {
   "cell_type": "code",
   "execution_count": 9,
   "metadata": {},
   "outputs": [],
   "source": [
    "# Generate batches of tensor image data with real-time data augmentation\n",
    "# Integrate generator with keras’ using ImageDataGenerator.flow()\n",
    "generator = keras.preprocessing.image.ImageDataGenerator()\n",
    "\n",
    "X_train, X_val, y_train, y_val = train_test_split(X_train, y_train, test_size=0.20, random_state=42)\n",
    "\n",
    "batches = generator.flow(X_train, y_train, batch_size=64)\n",
    "val_batches = generator.flow(X_val, y_val, batch_size=64)\n"
   ]
  },
  {
   "cell_type": "markdown",
   "metadata": {},
   "source": [
    "## Training the model"
   ]
  },
  {
   "cell_type": "code",
   "execution_count": 10,
   "metadata": {},
   "outputs": [
    {
     "name": "stdout",
     "output_type": "stream",
     "text": [
      "WARNING:tensorflow:From /Users/luishengjie/anaconda3/envs/deeplearning/lib/python3.7/site-packages/tensorflow/python/ops/math_ops.py:3066: to_int32 (from tensorflow.python.ops.math_ops) is deprecated and will be removed in a future version.\n",
      "Instructions for updating:\n",
      "Use tf.cast instead.\n",
      "Epoch 1/30\n",
      "132/132 [==============================] - 7s 51ms/step - loss: 0.0633 - acc: 0.9811\n",
      "525/525 [==============================] - 74s 141ms/step - loss: 0.2579 - acc: 0.9164 - val_loss: 0.0633 - val_acc: 0.9811\n",
      "Epoch 2/30\n",
      "132/132 [==============================] - 7s 52ms/step - loss: 0.0449 - acc: 0.9854\n",
      "525/525 [==============================] - 77s 147ms/step - loss: 0.0760 - acc: 0.9770 - val_loss: 0.0449 - val_acc: 0.9854\n",
      "Epoch 3/30\n",
      "132/132 [==============================] - 7s 54ms/step - loss: 0.0581 - acc: 0.9827\n",
      "525/525 [==============================] - 77s 146ms/step - loss: 0.0562 - acc: 0.9828 - val_loss: 0.0581 - val_acc: 0.9827\n",
      "Epoch 4/30\n",
      "132/132 [==============================] - 6s 48ms/step - loss: 0.0317 - acc: 0.9896\n",
      "525/525 [==============================] - 73s 139ms/step - loss: 0.0470 - acc: 0.9852 - val_loss: 0.0317 - val_acc: 0.9896\n",
      "Epoch 5/30\n",
      "132/132 [==============================] - 7s 53ms/step - loss: 0.0320 - acc: 0.9899\n",
      "525/525 [==============================] - 76s 144ms/step - loss: 0.0423 - acc: 0.9870 - val_loss: 0.0320 - val_acc: 0.9899\n",
      "Epoch 6/30\n",
      "132/132 [==============================] - 7s 52ms/step - loss: 0.0418 - acc: 0.9885\n",
      "525/525 [==============================] - 76s 146ms/step - loss: 0.0361 - acc: 0.9893 - val_loss: 0.0418 - val_acc: 0.9885\n",
      "Epoch 7/30\n",
      "132/132 [==============================] - 7s 52ms/step - loss: 0.0246 - acc: 0.9926\n",
      "525/525 [==============================] - 76s 146ms/step - loss: 0.0341 - acc: 0.9896 - val_loss: 0.0246 - val_acc: 0.9926\n",
      "Epoch 8/30\n",
      "132/132 [==============================] - 7s 52ms/step - loss: 0.0289 - acc: 0.9919\n",
      "525/525 [==============================] - 79s 151ms/step - loss: 0.0306 - acc: 0.9906 - val_loss: 0.0289 - val_acc: 0.9919\n",
      "Epoch 9/30\n",
      "132/132 [==============================] - 7s 54ms/step - loss: 0.0313 - acc: 0.9918\n",
      "525/525 [==============================] - 78s 148ms/step - loss: 0.0301 - acc: 0.9912 - val_loss: 0.0313 - val_acc: 0.9918\n",
      "Epoch 10/30\n",
      "132/132 [==============================] - 7s 56ms/step - loss: 0.0234 - acc: 0.9927\n",
      "525/525 [==============================] - 76s 144ms/step - loss: 0.0280 - acc: 0.9918 - val_loss: 0.0234 - val_acc: 0.9927\n",
      "Epoch 11/30\n",
      "132/132 [==============================] - 7s 52ms/step - loss: 0.0231 - acc: 0.9931\n",
      "525/525 [==============================] - 79s 151ms/step - loss: 0.0269 - acc: 0.9918 - val_loss: 0.0231 - val_acc: 0.9931\n",
      "Epoch 12/30\n",
      "132/132 [==============================] - 7s 56ms/step - loss: 0.0252 - acc: 0.9940\n",
      "525/525 [==============================] - 76s 144ms/step - loss: 0.0257 - acc: 0.9925 - val_loss: 0.0252 - val_acc: 0.9940\n",
      "Epoch 13/30\n",
      "132/132 [==============================] - 7s 53ms/step - loss: 0.0332 - acc: 0.9921\n",
      "525/525 [==============================] - 78s 149ms/step - loss: 0.0245 - acc: 0.9929 - val_loss: 0.0332 - val_acc: 0.9921\n",
      "Epoch 14/30\n",
      "132/132 [==============================] - 7s 55ms/step - loss: 0.0251 - acc: 0.9926\n",
      "525/525 [==============================] - 79s 150ms/step - loss: 0.0254 - acc: 0.9924 - val_loss: 0.0251 - val_acc: 0.9926\n",
      "Epoch 15/30\n",
      "132/132 [==============================] - 7s 55ms/step - loss: 0.0253 - acc: 0.9924\n",
      "525/525 [==============================] - 78s 148ms/step - loss: 0.0247 - acc: 0.9926 - val_loss: 0.0253 - val_acc: 0.9924\n",
      "Epoch 16/30\n",
      "132/132 [==============================] - 8s 58ms/step - loss: 0.0390 - acc: 0.9908\n",
      "525/525 [==============================] - 76s 145ms/step - loss: 0.0233 - acc: 0.9930 - val_loss: 0.0390 - val_acc: 0.9908\n",
      "Epoch 17/30\n",
      "132/132 [==============================] - 7s 55ms/step - loss: 0.0294 - acc: 0.9920\n",
      "525/525 [==============================] - 78s 149ms/step - loss: 0.0239 - acc: 0.9937 - val_loss: 0.0294 - val_acc: 0.9920\n",
      "Epoch 18/30\n",
      "132/132 [==============================] - 7s 50ms/step - loss: 0.0364 - acc: 0.9932: 0s - loss: 0.0353 \n",
      "525/525 [==============================] - 78s 149ms/step - loss: 0.0239 - acc: 0.9937 - val_loss: 0.0364 - val_acc: 0.9932\n",
      "Epoch 19/30\n",
      "132/132 [==============================] - 8s 57ms/step - loss: 0.0304 - acc: 0.9915\n",
      "525/525 [==============================] - 80s 152ms/step - loss: 0.0248 - acc: 0.9932 - val_loss: 0.0304 - val_acc: 0.9915\n",
      "Epoch 20/30\n",
      "132/132 [==============================] - 7s 54ms/step - loss: 0.0281 - acc: 0.9914\n",
      "525/525 [==============================] - 78s 148ms/step - loss: 0.0248 - acc: 0.9935 - val_loss: 0.0281 - val_acc: 0.9914\n",
      "Epoch 21/30\n",
      "132/132 [==============================] - 7s 50ms/step - loss: 0.0417 - acc: 0.9912\n",
      "525/525 [==============================] - 77s 146ms/step - loss: 0.0227 - acc: 0.9936 - val_loss: 0.0417 - val_acc: 0.9912\n",
      "Epoch 22/30\n",
      "132/132 [==============================] - 6s 49ms/step - loss: 0.0278 - acc: 0.9927\n",
      "525/525 [==============================] - 73s 139ms/step - loss: 0.0236 - acc: 0.9938 - val_loss: 0.0278 - val_acc: 0.9927\n",
      "Epoch 23/30\n",
      "132/132 [==============================] - 7s 51ms/step - loss: 0.0326 - acc: 0.9914\n",
      "525/525 [==============================] - 73s 139ms/step - loss: 0.0246 - acc: 0.9942 - val_loss: 0.0326 - val_acc: 0.9914\n",
      "Epoch 24/30\n",
      "132/132 [==============================] - 7s 51ms/step - loss: 0.0289 - acc: 0.9932\n",
      "525/525 [==============================] - 76s 144ms/step - loss: 0.0249 - acc: 0.9943 - val_loss: 0.0289 - val_acc: 0.9932\n",
      "Epoch 25/30\n",
      "132/132 [==============================] - 7s 51ms/step - loss: 0.0511 - acc: 0.9896\n",
      "525/525 [==============================] - 74s 141ms/step - loss: 0.0243 - acc: 0.9939 - val_loss: 0.0511 - val_acc: 0.9896\n",
      "Epoch 26/30\n",
      "132/132 [==============================] - 6s 49ms/step - loss: 0.0434 - acc: 0.9908\n",
      "525/525 [==============================] - 73s 140ms/step - loss: 0.0238 - acc: 0.9946 - val_loss: 0.0434 - val_acc: 0.9908\n",
      "Epoch 27/30\n",
      "132/132 [==============================] - 7s 50ms/step - loss: 0.0491 - acc: 0.9933\n",
      "525/525 [==============================] - 73s 139ms/step - loss: 0.0225 - acc: 0.9944 - val_loss: 0.0491 - val_acc: 0.9933\n",
      "Epoch 28/30\n",
      "132/132 [==============================] - 7s 54ms/step - loss: 0.0416 - acc: 0.9936\n",
      "525/525 [==============================] - 76s 145ms/step - loss: 0.0279 - acc: 0.9937 - val_loss: 0.0416 - val_acc: 0.9936\n",
      "Epoch 29/30\n",
      "132/132 [==============================] - 7s 50ms/step - loss: 0.0383 - acc: 0.9932\n",
      "525/525 [==============================] - 74s 142ms/step - loss: 0.0245 - acc: 0.9942 - val_loss: 0.0383 - val_acc: 0.9932\n",
      "Epoch 30/30\n",
      "132/132 [==============================] - 7s 56ms/step - loss: 0.0386 - acc: 0.9930\n",
      "525/525 [==============================] - 74s 141ms/step - loss: 0.0249 - acc: 0.9942 - val_loss: 0.0386 - val_acc: 0.9930\n"
     ]
    }
   ],
   "source": [
    "history=model.fit_generator(generator=batches, steps_per_epoch=batches.n, epochs=30, validation_data=val_batches, validation_steps=val_batches.n)\n"
   ]
  },
  {
   "cell_type": "markdown",
   "metadata": {},
   "source": [
    "## Submitting to Kaggle"
   ]
  },
  {
   "cell_type": "code",
   "execution_count": 11,
   "metadata": {},
   "outputs": [],
   "source": [
    "predictions = model.predict_classes(X_test, verbose=0)\n",
    "\n",
    "submissions=pd.DataFrame({\"ImageId\": list(range(1,len(predictions)+1)),\n",
    "                         \"Label\": predictions})\n",
    "\n",
    "submissions.to_csv(\"submission.csv\", index=False, header=True)"
   ]
  },
  {
   "cell_type": "code",
   "execution_count": null,
   "metadata": {},
   "outputs": [],
   "source": []
  }
 ],
 "metadata": {
  "kernelspec": {
   "display_name": "Python 3",
   "language": "python",
   "name": "python3"
  },
  "language_info": {
   "codemirror_mode": {
    "name": "ipython",
    "version": 3
   },
   "file_extension": ".py",
   "mimetype": "text/x-python",
   "name": "python",
   "nbconvert_exporter": "python",
   "pygments_lexer": "ipython3",
   "version": "3.7.2"
  }
 },
 "nbformat": 4,
 "nbformat_minor": 2
}
